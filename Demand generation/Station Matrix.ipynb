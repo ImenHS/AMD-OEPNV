{
 "cells": [
  {
   "cell_type": "code",
   "execution_count": 30,
   "id": "8c737d5e",
   "metadata": {},
   "outputs": [],
   "source": [
    "import numpy as np\n",
    "import pandas as pd\n",
    "import networkx as nx"
   ]
  },
  {
   "cell_type": "code",
   "execution_count": 2,
   "id": "e468a9fb",
   "metadata": {},
   "outputs": [],
   "source": [
    "tram_trips = pd.read_excel('tram_trips_new.xlsx')"
   ]
  },
  {
   "cell_type": "code",
   "execution_count": 13,
   "id": "20b32cd6",
   "metadata": {},
   "outputs": [
    {
     "data": {
      "text/html": [
       "<div>\n",
       "<style scoped>\n",
       "    .dataframe tbody tr th:only-of-type {\n",
       "        vertical-align: middle;\n",
       "    }\n",
       "\n",
       "    .dataframe tbody tr th {\n",
       "        vertical-align: top;\n",
       "    }\n",
       "\n",
       "    .dataframe thead th {\n",
       "        text-align: right;\n",
       "    }\n",
       "</style>\n",
       "<table border=\"1\" class=\"dataframe\">\n",
       "  <thead>\n",
       "    <tr style=\"text-align: right;\">\n",
       "      <th></th>\n",
       "      <th>trip_id</th>\n",
       "      <th>arrival_time</th>\n",
       "      <th>route_stops</th>\n",
       "      <th>travel_stops</th>\n",
       "    </tr>\n",
       "  </thead>\n",
       "  <tbody>\n",
       "    <tr>\n",
       "      <th>0</th>\n",
       "      <td>23595</td>\n",
       "      <td>15</td>\n",
       "      <td>11,12,13,14,15,16,17,18,19,20,57,56,55,54,53,5...</td>\n",
       "      <td>0,1,1,1,1,1,2,1,1,1,1,1,1,1,1,2,1,2,1,1,1,1</td>\n",
       "    </tr>\n",
       "    <tr>\n",
       "      <th>1</th>\n",
       "      <td>23561</td>\n",
       "      <td>15</td>\n",
       "      <td>11,10,81,80,66,65,64,30,1,2,3,4,102,103,104,10...</td>\n",
       "      <td>0,1,1,1,1,1,1,1,1,1,1,1,1,1,1,1,1,1</td>\n",
       "    </tr>\n",
       "    <tr>\n",
       "      <th>2</th>\n",
       "      <td>23603</td>\n",
       "      <td>19</td>\n",
       "      <td>122,121,120,119,50,51,52,53,54,55,56,57,20,19,...</td>\n",
       "      <td>0,1,1,2,1,2,1,1,1,2,1,1,1,1,1,1,1,1,1,1,1,1</td>\n",
       "    </tr>\n",
       "  </tbody>\n",
       "</table>\n",
       "</div>"
      ],
      "text/plain": [
       "   trip_id  arrival_time                                        route_stops  \\\n",
       "0    23595            15  11,12,13,14,15,16,17,18,19,20,57,56,55,54,53,5...   \n",
       "1    23561            15  11,10,81,80,66,65,64,30,1,2,3,4,102,103,104,10...   \n",
       "2    23603            19  122,121,120,119,50,51,52,53,54,55,56,57,20,19,...   \n",
       "\n",
       "                                  travel_stops  \n",
       "0  0,1,1,1,1,1,2,1,1,1,1,1,1,1,1,2,1,2,1,1,1,1  \n",
       "1          0,1,1,1,1,1,1,1,1,1,1,1,1,1,1,1,1,1  \n",
       "2  0,1,1,2,1,2,1,1,1,2,1,1,1,1,1,1,1,1,1,1,1,1  "
      ]
     },
     "execution_count": 13,
     "metadata": {},
     "output_type": "execute_result"
    }
   ],
   "source": [
    "tram_trips.head(3)"
   ]
  },
  {
   "cell_type": "code",
   "execution_count": 34,
   "id": "3e337f0f",
   "metadata": {},
   "outputs": [
    {
     "name": "stderr",
     "output_type": "stream",
     "text": [
      "C:\\Users\\dell\\AppData\\Local\\Temp\\ipykernel_14240\\456971740.py:3: FutureWarning: The frame.append method is deprecated and will be removed from pandas in a future version. Use pandas.concat instead.\n",
      "  df = df.append(tram_trips.loc[tram_trips['arrival_time']//60==i])\n",
      "C:\\Users\\dell\\AppData\\Local\\Temp\\ipykernel_14240\\456971740.py:3: FutureWarning: The frame.append method is deprecated and will be removed from pandas in a future version. Use pandas.concat instead.\n",
      "  df = df.append(tram_trips.loc[tram_trips['arrival_time']//60==i])\n",
      "C:\\Users\\dell\\AppData\\Local\\Temp\\ipykernel_14240\\456971740.py:3: FutureWarning: The frame.append method is deprecated and will be removed from pandas in a future version. Use pandas.concat instead.\n",
      "  df = df.append(tram_trips.loc[tram_trips['arrival_time']//60==i])\n",
      "C:\\Users\\dell\\AppData\\Local\\Temp\\ipykernel_14240\\456971740.py:3: FutureWarning: The frame.append method is deprecated and will be removed from pandas in a future version. Use pandas.concat instead.\n",
      "  df = df.append(tram_trips.loc[tram_trips['arrival_time']//60==i])\n",
      "C:\\Users\\dell\\AppData\\Local\\Temp\\ipykernel_14240\\456971740.py:3: FutureWarning: The frame.append method is deprecated and will be removed from pandas in a future version. Use pandas.concat instead.\n",
      "  df = df.append(tram_trips.loc[tram_trips['arrival_time']//60==i])\n",
      "C:\\Users\\dell\\AppData\\Local\\Temp\\ipykernel_14240\\456971740.py:3: FutureWarning: The frame.append method is deprecated and will be removed from pandas in a future version. Use pandas.concat instead.\n",
      "  df = df.append(tram_trips.loc[tram_trips['arrival_time']//60==i])\n",
      "C:\\Users\\dell\\AppData\\Local\\Temp\\ipykernel_14240\\456971740.py:3: FutureWarning: The frame.append method is deprecated and will be removed from pandas in a future version. Use pandas.concat instead.\n",
      "  df = df.append(tram_trips.loc[tram_trips['arrival_time']//60==i])\n",
      "C:\\Users\\dell\\AppData\\Local\\Temp\\ipykernel_14240\\456971740.py:3: FutureWarning: The frame.append method is deprecated and will be removed from pandas in a future version. Use pandas.concat instead.\n",
      "  df = df.append(tram_trips.loc[tram_trips['arrival_time']//60==i])\n",
      "C:\\Users\\dell\\AppData\\Local\\Temp\\ipykernel_14240\\456971740.py:3: FutureWarning: The frame.append method is deprecated and will be removed from pandas in a future version. Use pandas.concat instead.\n",
      "  df = df.append(tram_trips.loc[tram_trips['arrival_time']//60==i])\n",
      "C:\\Users\\dell\\AppData\\Local\\Temp\\ipykernel_14240\\456971740.py:3: FutureWarning: The frame.append method is deprecated and will be removed from pandas in a future version. Use pandas.concat instead.\n",
      "  df = df.append(tram_trips.loc[tram_trips['arrival_time']//60==i])\n",
      "C:\\Users\\dell\\AppData\\Local\\Temp\\ipykernel_14240\\456971740.py:3: FutureWarning: The frame.append method is deprecated and will be removed from pandas in a future version. Use pandas.concat instead.\n",
      "  df = df.append(tram_trips.loc[tram_trips['arrival_time']//60==i])\n",
      "C:\\Users\\dell\\AppData\\Local\\Temp\\ipykernel_14240\\456971740.py:3: FutureWarning: The frame.append method is deprecated and will be removed from pandas in a future version. Use pandas.concat instead.\n",
      "  df = df.append(tram_trips.loc[tram_trips['arrival_time']//60==i])\n",
      "C:\\Users\\dell\\AppData\\Local\\Temp\\ipykernel_14240\\456971740.py:3: FutureWarning: The frame.append method is deprecated and will be removed from pandas in a future version. Use pandas.concat instead.\n",
      "  df = df.append(tram_trips.loc[tram_trips['arrival_time']//60==i])\n",
      "C:\\Users\\dell\\AppData\\Local\\Temp\\ipykernel_14240\\456971740.py:3: FutureWarning: The frame.append method is deprecated and will be removed from pandas in a future version. Use pandas.concat instead.\n",
      "  df = df.append(tram_trips.loc[tram_trips['arrival_time']//60==i])\n",
      "C:\\Users\\dell\\AppData\\Local\\Temp\\ipykernel_14240\\456971740.py:3: FutureWarning: The frame.append method is deprecated and will be removed from pandas in a future version. Use pandas.concat instead.\n",
      "  df = df.append(tram_trips.loc[tram_trips['arrival_time']//60==i])\n",
      "C:\\Users\\dell\\AppData\\Local\\Temp\\ipykernel_14240\\456971740.py:3: FutureWarning: The frame.append method is deprecated and will be removed from pandas in a future version. Use pandas.concat instead.\n",
      "  df = df.append(tram_trips.loc[tram_trips['arrival_time']//60==i])\n",
      "C:\\Users\\dell\\AppData\\Local\\Temp\\ipykernel_14240\\456971740.py:3: FutureWarning: The frame.append method is deprecated and will be removed from pandas in a future version. Use pandas.concat instead.\n",
      "  df = df.append(tram_trips.loc[tram_trips['arrival_time']//60==i])\n",
      "C:\\Users\\dell\\AppData\\Local\\Temp\\ipykernel_14240\\456971740.py:3: FutureWarning: The frame.append method is deprecated and will be removed from pandas in a future version. Use pandas.concat instead.\n",
      "  df = df.append(tram_trips.loc[tram_trips['arrival_time']//60==i])\n",
      "C:\\Users\\dell\\AppData\\Local\\Temp\\ipykernel_14240\\456971740.py:3: FutureWarning: The frame.append method is deprecated and will be removed from pandas in a future version. Use pandas.concat instead.\n",
      "  df = df.append(tram_trips.loc[tram_trips['arrival_time']//60==i])\n",
      "C:\\Users\\dell\\AppData\\Local\\Temp\\ipykernel_14240\\456971740.py:3: FutureWarning: The frame.append method is deprecated and will be removed from pandas in a future version. Use pandas.concat instead.\n",
      "  df = df.append(tram_trips.loc[tram_trips['arrival_time']//60==i])\n",
      "C:\\Users\\dell\\AppData\\Local\\Temp\\ipykernel_14240\\456971740.py:3: FutureWarning: The frame.append method is deprecated and will be removed from pandas in a future version. Use pandas.concat instead.\n",
      "  df = df.append(tram_trips.loc[tram_trips['arrival_time']//60==i])\n",
      "C:\\Users\\dell\\AppData\\Local\\Temp\\ipykernel_14240\\456971740.py:3: FutureWarning: The frame.append method is deprecated and will be removed from pandas in a future version. Use pandas.concat instead.\n",
      "  df = df.append(tram_trips.loc[tram_trips['arrival_time']//60==i])\n",
      "C:\\Users\\dell\\AppData\\Local\\Temp\\ipykernel_14240\\456971740.py:3: FutureWarning: The frame.append method is deprecated and will be removed from pandas in a future version. Use pandas.concat instead.\n",
      "  df = df.append(tram_trips.loc[tram_trips['arrival_time']//60==i])\n",
      "C:\\Users\\dell\\AppData\\Local\\Temp\\ipykernel_14240\\456971740.py:3: FutureWarning: The frame.append method is deprecated and will be removed from pandas in a future version. Use pandas.concat instead.\n",
      "  df = df.append(tram_trips.loc[tram_trips['arrival_time']//60==i])\n"
     ]
    }
   ],
   "source": [
    "for i in range(24):\n",
    "    df = pd.DataFrame(columns = tram_trips.columns)\n",
    "    df = df.append(tram_trips.loc[tram_trips['arrival_time']//60==i])\n",
    "    distance = pd.DataFrame(float('inf'), index=range(1,123), columns=range(1,123))\n",
    "    np.fill_diagonal(distance.values, 0)\n",
    "    for index in range(len(df)):\n",
    "        stops = df['route_stops'].iloc[index]\n",
    "        stops = list(map(int, stops.split(',')))\n",
    "        time = df['travel_stops'].iloc[index]\n",
    "        time = list(map(int, time.split(',')))\n",
    "        if len(stops) != len(time):\n",
    "            print(\"ERROR!!\")\n",
    "            break\n",
    "        else:\n",
    "            for j in range(len(stops)):\n",
    "                stop = stops[j]\n",
    "                tm = time[j]\n",
    "                if j > 0:\n",
    "                    prev_stop = stops[j-1]\n",
    "                else:\n",
    "                    prev_stop = stops[j]\n",
    "                if distance.loc[stop,prev_stop] > tm:\n",
    "                    distance.loc[stop, prev_stop] = tm\n",
    "                    distance.loc[prev_stop, stop] = tm\n",
    "    G = nx.from_pandas_adjacency(distance)\n",
    "    shortest_distances = dict(nx.all_pairs_dijkstra_path_length(G))\n",
    "    shortest_distances_df = pd.DataFrame(shortest_distances)\n",
    "    shortest_distances_df = shortest_distances_df.reindex(index=distance.columns, columns=distance.columns)\n",
    "    shortest_distances_df.to_excel(\"distODh\"+str(i)+\".xlsx\", index=True)"
   ]
  },
  {
   "cell_type": "code",
   "execution_count": null,
   "id": "0e3a1a5c",
   "metadata": {},
   "outputs": [],
   "source": []
  }
 ],
 "metadata": {
  "kernelspec": {
   "display_name": "Python 3 (ipykernel)",
   "language": "python",
   "name": "python3"
  },
  "language_info": {
   "codemirror_mode": {
    "name": "ipython",
    "version": 3
   },
   "file_extension": ".py",
   "mimetype": "text/x-python",
   "name": "python",
   "nbconvert_exporter": "python",
   "pygments_lexer": "ipython3",
   "version": "3.9.13"
  }
 },
 "nbformat": 4,
 "nbformat_minor": 5
}
